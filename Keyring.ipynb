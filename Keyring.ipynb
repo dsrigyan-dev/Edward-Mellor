{
 "cells": [
  {
   "cell_type": "code",
   "execution_count": 3,
   "id": "5042d213-f924-4841-93d9-274625625bad",
   "metadata": {
    "execution": {
     "iopub.execute_input": "2024-07-18T13:42:57.256059Z",
     "iopub.status.busy": "2024-07-18T13:42:57.255136Z",
     "iopub.status.idle": "2024-07-18T13:42:57.317834Z",
     "shell.execute_reply": "2024-07-18T13:42:57.317834Z",
     "shell.execute_reply.started": "2024-07-18T13:42:57.255999Z"
    }
   },
   "outputs": [],
   "source": [
    "import keyring\n",
    "\n",
    "# Set your credentials\n",
    "keyring.set_password(\"salesforce\", \"username\", \"deepankar.srigyan@edwardmellor.co.uk\")\n",
    "keyring.set_password(\"salesforce\", \"password\", \"Madhuri@007\")\n",
    "keyring.set_password(\"salesforce\", \"security_token\", \"2YGA9FcPxlXZYZHOze7Oin0q\")\n",
    "keyring.set_password(\"salesforce\", \"consumer_key\", \"3MVG9JEx.BE6yifNvstO4sCqa0eATOwdZa06mrKDX5ESai0LtiHBuEv.tYdJgaCE_DmqdTdKIxEmdpFrF0.eg\")\n",
    "keyring.set_password(\"salesforce\", \"consumer_secret\", \"44A18E71C43306E9A782F7D39677A7E6CBCD3D519EC8DD36FAEF8858D326C970\")"
   ]
  }
 ],
 "metadata": {
  "kernelspec": {
   "display_name": "Python 3 (ipykernel)",
   "language": "python",
   "name": "python3"
  },
  "language_info": {
   "codemirror_mode": {
    "name": "ipython",
    "version": 3
   },
   "file_extension": ".py",
   "mimetype": "text/x-python",
   "name": "python",
   "nbconvert_exporter": "python",
   "pygments_lexer": "ipython3",
   "version": "3.12.3"
  }
 },
 "nbformat": 4,
 "nbformat_minor": 5
}
