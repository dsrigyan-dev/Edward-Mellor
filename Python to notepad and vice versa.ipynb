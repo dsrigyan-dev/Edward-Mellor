{
 "cells": [
  {
   "cell_type": "markdown",
   "id": "da3a59a0-66d0-4f66-ad61-f694d54a92a1",
   "metadata": {},
   "source": [
    "# Change ipynb to py file"
   ]
  },
  {
   "cell_type": "code",
   "execution_count": null,
   "id": "ab5a39e5-68a6-4ac8-8742-ba46f279ab0c",
   "metadata": {},
   "outputs": [],
   "source": []
  },
  {
   "cell_type": "markdown",
   "id": "d1287056-26c6-4104-9d3d-446fb41e0258",
   "metadata": {},
   "source": [
    "## ipynb to py"
   ]
  },
  {
   "cell_type": "code",
   "execution_count": null,
   "id": "52934b4b-24b4-48fa-84fe-8d2fc9ea2e09",
   "metadata": {},
   "outputs": [],
   "source": [
    "import nbformat\n",
    "from nbconvert import PythonExporter\n",
    "\n",
    "# Read the notebook\n",
    "with open(\"1.ipynb\", \"r\") as f:\n",
    "    notebook = nbformat.read(f, as_version=4)\n",
    "\n",
    "# Convert the notebook to a Python script\n",
    "python_exporter = PythonExporter()\n",
    "python_script, _ = python_exporter.from_notebook_node(notebook)\n",
    "\n",
    "# Save the Python script\n",
    "with open(\"your_notebook.py\", \"w\") as f:\n",
    "    f.write(python_script)\n"
   ]
  },
  {
   "cell_type": "markdown",
   "id": "2d0b78d2-9aa4-4e6b-b9f2-159de49ca5aa",
   "metadata": {},
   "source": [
    "## py to ipynb"
   ]
  },
  {
   "cell_type": "code",
   "execution_count": 1,
   "id": "53a78e1b-f8ce-4b35-afd7-2ce923083ce8",
   "metadata": {
    "execution": {
     "iopub.execute_input": "2024-11-07T11:41:01.323949Z",
     "iopub.status.busy": "2024-11-07T11:41:01.323949Z",
     "iopub.status.idle": "2024-11-07T11:41:02.432950Z",
     "shell.execute_reply": "2024-11-07T11:41:02.432950Z",
     "shell.execute_reply.started": "2024-11-07T11:41:01.323949Z"
    }
   },
   "outputs": [],
   "source": [
    "import nbformat as nbf\n",
    "\n",
    "# Read the Python script\n",
    "with open('C:/Users/srigd/Desktop/My Project/Dashboard/Negotiator Dashboard/1.py', 'r') as f:\n",
    "    code = f.read()\n",
    "\n",
    "# Create a new Jupyter Notebook object\n",
    "nb = nbf.v4.new_notebook()\n",
    "\n",
    "# Add the code to a new cell\n",
    "nb.cells.append(nbf.v4.new_code_cell(code))\n",
    "\n",
    "# Save the notebook\n",
    "with open('C:/Users/srigd/Desktop/My Project/Dashboard/Negotiator Dashboard/1.ipynb', 'w') as f:\n",
    "    nbf.write(nb, f)\n"
   ]
  },
  {
   "cell_type": "code",
   "execution_count": null,
   "id": "85d9f82c-0154-4723-b76e-efefcacec1e7",
   "metadata": {},
   "outputs": [],
   "source": []
  }
 ],
 "metadata": {
  "kernelspec": {
   "display_name": "Python 3 (ipykernel)",
   "language": "python",
   "name": "python3"
  },
  "language_info": {
   "codemirror_mode": {
    "name": "ipython",
    "version": 3
   },
   "file_extension": ".py",
   "mimetype": "text/x-python",
   "name": "python",
   "nbconvert_exporter": "python",
   "pygments_lexer": "ipython3",
   "version": "3.12.5"
  }
 },
 "nbformat": 4,
 "nbformat_minor": 5
}
